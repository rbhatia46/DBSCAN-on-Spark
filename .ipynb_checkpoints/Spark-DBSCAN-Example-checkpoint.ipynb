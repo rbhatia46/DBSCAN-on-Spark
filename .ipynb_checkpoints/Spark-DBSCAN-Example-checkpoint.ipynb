{
 "cells": [
  {
   "cell_type": "markdown",
   "metadata": {},
   "source": [
    "### DBSCAN Example\n",
    "\n",
    "**Below is just a small working example to understand how we can use DBSCAN from scikit-learn and use Pandas UDF from Spark to compute this in a distributed manner for each group after a groupby.**"
   ]
  },
  {
   "cell_type": "code",
   "execution_count": 53,
   "metadata": {},
   "outputs": [],
   "source": [
    "import pandas as pd\n",
    "from pyspark.sql.types import StructType, StructField, DoubleType, StringType, IntegerType\n",
    "from sklearn.cluster import DBSCAN\n",
    "from pyspark.sql.functions import pandas_udf, PandasUDFType\n",
    "\n",
    "# Some Dummy data\n",
    "data = [(1, 11.6133, 48.1075),\n",
    "         (1, 11.6142, 48.1066),\n",
    "         (1, 11.6108, 48.1061),\n",
    "         (1, 11.6207, 48.1192),\n",
    "         (1, 11.6221, 48.1223),\n",
    "         (1, 11.5969, 48.1276),\n",
    "         (2, 11.5995, 48.1258),\n",
    "         (2, 11.6127, 48.1066),\n",
    "         (2, 11.6430, 48.1275),\n",
    "         (2, 11.6368, 48.1278),\n",
    "         (2, 11.5930, 48.1156)]\n",
    "\n",
    "# Create Spark Dataframe\n",
    "df = spark.createDataFrame(data, [\"id\", \"X\", \"Y\"])\n",
    "\n",
    "# Define the output schema for the UDF\n",
    "output_schema = StructType(\n",
    "            [\n",
    "                StructField('id', StringType()),\n",
    "                StructField('X', DoubleType()),\n",
    "                StructField('Y', DoubleType()),\n",
    "                StructField('cluster', IntegerType())\n",
    "             ]\n",
    "    )"
   ]
  },
  {
   "cell_type": "code",
   "execution_count": 58,
   "metadata": {},
   "outputs": [],
   "source": [
    "# Register the python functions as a Pandas UDF\n",
    "@pandas_udf(output_schema, PandasUDFType.GROUPED_MAP)\n",
    "def dbscan(data):\n",
    "    data[\"cluster\"] = DBSCAN(eps=5, min_samples=3).fit_predict(data[[\"X\", \"Y\"]])\n",
    "    result = pd.DataFrame(data, columns=[\"id\", \"X\", \"Y\", \"cluster\"])\n",
    "    return result"
   ]
  },
  {
   "cell_type": "code",
   "execution_count": 57,
   "metadata": {},
   "outputs": [],
   "source": [
    "# Apply Above UDF for each group('id' in this case)\n",
    "res = df.groupby(\"id\").apply(dbscan)"
   ]
  },
  {
   "cell_type": "code",
   "execution_count": 58,
   "metadata": {},
   "outputs": [
    {
     "name": "stdout",
     "output_type": "stream",
     "text": [
      "+---+-------+-------+-------+\n",
      "| id|      X|      Y|cluster|\n",
      "+---+-------+-------+-------+\n",
      "|  \u0001|11.6133|48.1075|      0|\n",
      "|  \u0001|11.6142|48.1066|      0|\n",
      "|  \u0001|11.6108|48.1061|      0|\n",
      "|  \u0001|11.6207|48.1192|      0|\n",
      "|  \u0001|11.6221|48.1223|      0|\n",
      "|  \u0001|11.5969|48.1276|      0|\n",
      "|  \u0002|11.5995|48.1258|      0|\n",
      "|  \u0002|11.6127|48.1066|      0|\n",
      "|  \u0002| 11.643|48.1275|      0|\n",
      "|  \u0002|11.6368|48.1278|      0|\n",
      "|  \u0002| 11.593|48.1156|      0|\n",
      "+---+-------+-------+-------+\n",
      "\n"
     ]
    }
   ],
   "source": [
    "# Display results\n",
    "res.show()"
   ]
  }
 ],
 "metadata": {
  "kernelspec": {
   "display_name": "Python 3",
   "language": "python",
   "name": "python3"
  },
  "language_info": {
   "codemirror_mode": {
    "name": "ipython",
    "version": 3
   },
   "file_extension": ".py",
   "mimetype": "text/x-python",
   "name": "python",
   "nbconvert_exporter": "python",
   "pygments_lexer": "ipython3",
   "version": "3.7.7"
  }
 },
 "nbformat": 4,
 "nbformat_minor": 4
}
